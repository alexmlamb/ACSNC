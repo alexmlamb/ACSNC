{
 "cells": [
  {
   "cell_type": "code",
   "execution_count": 1,
   "metadata": {},
   "outputs": [],
   "source": [
    "import os, sys\n",
    "import torch \n",
    "import torch.nn as nn \n",
    "import pickle \n",
    "import numpy as np\n",
    "\n",
    "from os.path import abspath, join, dirname\n",
    "sys.path.append('../')\n",
    "\n",
    "from models import (Encoder, Probe, AC, Probe, LatentForward)\n",
    "from utils import unpickle \n",
    "\n",
    "\n",
    "import matplotlib\n",
    "import matplotlib.pyplot as plt \n",
    "# matplotlib.use('Agg')\n",
    "%matplotlib inline "
   ]
  },
  {
   "attachments": {},
   "cell_type": "markdown",
   "metadata": {},
   "source": [
    "### Models e.t.c"
   ]
  },
  {
   "cell_type": "code",
   "execution_count": 2,
   "metadata": {},
   "outputs": [
    {
     "name": "stdout",
     "output_type": "stream",
     "text": [
      "\n"
     ]
    }
   ],
   "source": [
    "device = torch.device(\"cuda\" if torch.cuda.is_available() else \"cpu\")\n",
    "enc = Encoder(100 * 100, 256).to(device)\n",
    "model = torch.load('../data/model.p', map_location=torch.device('cpu'))\n",
    "enc.load_state_dict(model['enc'])\n",
    "enc.eval()\n",
    "print()"
   ]
  },
  {
   "cell_type": "code",
   "execution_count": 3,
   "metadata": {},
   "outputs": [
    {
     "name": "stderr",
     "output_type": "stream",
     "text": [
      "/tmp/ipykernel_428551/1529650563.py:2: UserWarning: This figure was saved with matplotlib version 3.5.1 and is unlikely to function correctly.\n",
      "  kmeans_info = pickle.load(open('../data/kmeans_info.p', 'rb'))\n"
     ]
    },
    {
     "ename": "AttributeError",
     "evalue": "'CallbackRegistry' object has no attribute '_signals'",
     "output_type": "error",
     "traceback": [
      "\u001b[0;31m---------------------------------------------------------------------------\u001b[0m",
      "\u001b[0;31mAttributeError\u001b[0m                            Traceback (most recent call last)",
      "\u001b[1;32m/home/lekanmolu/Documents/ML-Cont-Rob/ac_state/continuous_ac/moplan/notebook.ipynb Cell 4\u001b[0m in \u001b[0;36m<cell line: 2>\u001b[0;34m()\u001b[0m\n\u001b[1;32m      <a href='vscode-notebook-cell://ssh-remote%2Btunnel/home/lekanmolu/Documents/ML-Cont-Rob/ac_state/continuous_ac/moplan/notebook.ipynb#W3sdnNjb2RlLXJlbW90ZQ%3D%3D?line=0'>1</a>\u001b[0m \u001b[39m# load clustering\u001b[39;00m\n\u001b[0;32m----> <a href='vscode-notebook-cell://ssh-remote%2Btunnel/home/lekanmolu/Documents/ML-Cont-Rob/ac_state/continuous_ac/moplan/notebook.ipynb#W3sdnNjb2RlLXJlbW90ZQ%3D%3D?line=1'>2</a>\u001b[0m kmeans_info \u001b[39m=\u001b[39m pickle\u001b[39m.\u001b[39;49mload(\u001b[39mopen\u001b[39;49m(\u001b[39m'\u001b[39;49m\u001b[39m../data/kmeans_info.p\u001b[39;49m\u001b[39m'\u001b[39;49m, \u001b[39m'\u001b[39;49m\u001b[39mrb\u001b[39;49m\u001b[39m'\u001b[39;49m))\n\u001b[1;32m      <a href='vscode-notebook-cell://ssh-remote%2Btunnel/home/lekanmolu/Documents/ML-Cont-Rob/ac_state/continuous_ac/moplan/notebook.ipynb#W3sdnNjb2RlLXJlbW90ZQ%3D%3D?line=2'>3</a>\u001b[0m kmeans \u001b[39m=\u001b[39m kmeans_info[\u001b[39m'\u001b[39m\u001b[39mkmeans\u001b[39m\u001b[39m'\u001b[39m]\n\u001b[1;32m      <a href='vscode-notebook-cell://ssh-remote%2Btunnel/home/lekanmolu/Documents/ML-Cont-Rob/ac_state/continuous_ac/moplan/notebook.ipynb#W3sdnNjb2RlLXJlbW90ZQ%3D%3D?line=3'>4</a>\u001b[0m \u001b[39m# kmeans_fig = kmeans_info['kmeans-plot']\u001b[39;00m\n\u001b[1;32m      <a href='vscode-notebook-cell://ssh-remote%2Btunnel/home/lekanmolu/Documents/ML-Cont-Rob/ac_state/continuous_ac/moplan/notebook.ipynb#W3sdnNjb2RlLXJlbW90ZQ%3D%3D?line=4'>5</a>\u001b[0m \u001b[39m# grounded_cluster_centers = kmeans_info['grounded-cluster-center']\u001b[39;00m\n",
      "File \u001b[0;32m/anaconda/envs/py38_default/lib/python3.8/site-packages/matplotlib/figure.py:3150\u001b[0m, in \u001b[0;36mFigure.__setstate__\u001b[0;34m(self, state)\u001b[0m\n\u001b[1;32m   3148\u001b[0m num \u001b[39m=\u001b[39m \u001b[39mmax\u001b[39m(allnums) \u001b[39m+\u001b[39m \u001b[39m1\u001b[39m \u001b[39mif\u001b[39;00m allnums \u001b[39melse\u001b[39;00m \u001b[39m1\u001b[39m\n\u001b[1;32m   3149\u001b[0m backend \u001b[39m=\u001b[39m plt\u001b[39m.\u001b[39m_get_backend_mod()\n\u001b[0;32m-> 3150\u001b[0m mgr \u001b[39m=\u001b[39m backend\u001b[39m.\u001b[39;49mnew_figure_manager_given_figure(num, \u001b[39mself\u001b[39;49m)\n\u001b[1;32m   3151\u001b[0m pylab_helpers\u001b[39m.\u001b[39mGcf\u001b[39m.\u001b[39m_set_new_active_manager(mgr)\n\u001b[1;32m   3152\u001b[0m plt\u001b[39m.\u001b[39mdraw_if_interactive()\n",
      "File \u001b[0;32m/anaconda/envs/py38_default/lib/python3.8/site-packages/matplotlib/backend_bases.py:3518\u001b[0m, in \u001b[0;36m_Backend.new_figure_manager_given_figure\u001b[0;34m(cls, num, figure)\u001b[0m\n\u001b[1;32m   3515\u001b[0m \u001b[39m@classmethod\u001b[39m\n\u001b[1;32m   3516\u001b[0m \u001b[39mdef\u001b[39;00m \u001b[39mnew_figure_manager_given_figure\u001b[39m(\u001b[39mcls\u001b[39m, num, figure):\n\u001b[1;32m   3517\u001b[0m     \u001b[39m\"\"\"Create a new figure manager instance for the given figure.\"\"\"\u001b[39;00m\n\u001b[0;32m-> 3518\u001b[0m     \u001b[39mreturn\u001b[39;00m \u001b[39mcls\u001b[39;49m\u001b[39m.\u001b[39;49mFigureCanvas\u001b[39m.\u001b[39;49mnew_manager(figure, num)\n",
      "File \u001b[0;32m/anaconda/envs/py38_default/lib/python3.8/site-packages/matplotlib/backend_bases.py:1703\u001b[0m, in \u001b[0;36mFigureCanvasBase.new_manager\u001b[0;34m(cls, figure, num)\u001b[0m\n\u001b[1;32m   1692\u001b[0m \u001b[39m@classmethod\u001b[39m\n\u001b[1;32m   1693\u001b[0m \u001b[39mdef\u001b[39;00m \u001b[39mnew_manager\u001b[39m(\u001b[39mcls\u001b[39m, figure, num):\n\u001b[1;32m   1694\u001b[0m     \u001b[39m\"\"\"\u001b[39;00m\n\u001b[1;32m   1695\u001b[0m \u001b[39m    Create a new figure manager for *figure*, using this canvas class.\u001b[39;00m\n\u001b[1;32m   1696\u001b[0m \n\u001b[0;32m   (...)\u001b[0m\n\u001b[1;32m   1701\u001b[0m \u001b[39m    ``FigureManager.create_with_canvas``.\u001b[39;00m\n\u001b[1;32m   1702\u001b[0m \u001b[39m    \"\"\"\u001b[39;00m\n\u001b[0;32m-> 1703\u001b[0m     \u001b[39mreturn\u001b[39;00m \u001b[39mcls\u001b[39;49m\u001b[39m.\u001b[39;49mmanager_class\u001b[39m.\u001b[39;49mcreate_with_canvas(\u001b[39mcls\u001b[39;49m, figure, num)\n",
      "File \u001b[0;32m/anaconda/envs/py38_default/lib/python3.8/site-packages/matplotlib/backend_bases.py:2830\u001b[0m, in \u001b[0;36mFigureManagerBase.create_with_canvas\u001b[0;34m(cls, canvas_class, figure, num)\u001b[0m\n\u001b[1;32m   2822\u001b[0m \u001b[39m@classmethod\u001b[39m\n\u001b[1;32m   2823\u001b[0m \u001b[39mdef\u001b[39;00m \u001b[39mcreate_with_canvas\u001b[39m(\u001b[39mcls\u001b[39m, canvas_class, figure, num):\n\u001b[1;32m   2824\u001b[0m     \u001b[39m\"\"\"\u001b[39;00m\n\u001b[1;32m   2825\u001b[0m \u001b[39m    Create a manager for a given *figure* using a specific *canvas_class*.\u001b[39;00m\n\u001b[1;32m   2826\u001b[0m \n\u001b[1;32m   2827\u001b[0m \u001b[39m    Backends should override this method if they have specific needs for\u001b[39;00m\n\u001b[1;32m   2828\u001b[0m \u001b[39m    setting up the canvas or the manager.\u001b[39;00m\n\u001b[1;32m   2829\u001b[0m \u001b[39m    \"\"\"\u001b[39;00m\n\u001b[0;32m-> 2830\u001b[0m     \u001b[39mreturn\u001b[39;00m \u001b[39mcls\u001b[39;49m(canvas_class(figure), num)\n",
      "File \u001b[0;32m/anaconda/envs/py38_default/lib/python3.8/site-packages/matplotlib/backend_bases.py:2794\u001b[0m, in \u001b[0;36mFigureManagerBase.__init__\u001b[0;34m(self, canvas, num)\u001b[0m\n\u001b[1;32m   2792\u001b[0m \u001b[39mself\u001b[39m\u001b[39m.\u001b[39mbutton_press_handler_id \u001b[39m=\u001b[39m \u001b[39mNone\u001b[39;00m\n\u001b[1;32m   2793\u001b[0m \u001b[39mif\u001b[39;00m rcParams[\u001b[39m'\u001b[39m\u001b[39mtoolbar\u001b[39m\u001b[39m'\u001b[39m] \u001b[39m!=\u001b[39m \u001b[39m'\u001b[39m\u001b[39mtoolmanager\u001b[39m\u001b[39m'\u001b[39m:\n\u001b[0;32m-> 2794\u001b[0m     \u001b[39mself\u001b[39m\u001b[39m.\u001b[39mkey_press_handler_id \u001b[39m=\u001b[39m \u001b[39mself\u001b[39;49m\u001b[39m.\u001b[39;49mcanvas\u001b[39m.\u001b[39;49mmpl_connect(\n\u001b[1;32m   2795\u001b[0m         \u001b[39m'\u001b[39;49m\u001b[39mkey_press_event\u001b[39;49m\u001b[39m'\u001b[39;49m, key_press_handler)\n\u001b[1;32m   2796\u001b[0m     \u001b[39mself\u001b[39m\u001b[39m.\u001b[39mbutton_press_handler_id \u001b[39m=\u001b[39m \u001b[39mself\u001b[39m\u001b[39m.\u001b[39mcanvas\u001b[39m.\u001b[39mmpl_connect(\n\u001b[1;32m   2797\u001b[0m         \u001b[39m'\u001b[39m\u001b[39mbutton_press_event\u001b[39m\u001b[39m'\u001b[39m, button_press_handler)\n\u001b[1;32m   2799\u001b[0m \u001b[39mself\u001b[39m\u001b[39m.\u001b[39mtoolmanager \u001b[39m=\u001b[39m (ToolManager(canvas\u001b[39m.\u001b[39mfigure)\n\u001b[1;32m   2800\u001b[0m                     \u001b[39mif\u001b[39;00m mpl\u001b[39m.\u001b[39mrcParams[\u001b[39m'\u001b[39m\u001b[39mtoolbar\u001b[39m\u001b[39m'\u001b[39m] \u001b[39m==\u001b[39m \u001b[39m'\u001b[39m\u001b[39mtoolmanager\u001b[39m\u001b[39m'\u001b[39m\n\u001b[1;32m   2801\u001b[0m                     \u001b[39melse\u001b[39;00m \u001b[39mNone\u001b[39;00m)\n",
      "File \u001b[0;32m/anaconda/envs/py38_default/lib/python3.8/site-packages/matplotlib/backend_bases.py:2448\u001b[0m, in \u001b[0;36mFigureCanvasBase.mpl_connect\u001b[0;34m(self, s, func)\u001b[0m\n\u001b[1;32m   2387\u001b[0m \u001b[39mdef\u001b[39;00m \u001b[39mmpl_connect\u001b[39m(\u001b[39mself\u001b[39m, s, func):\n\u001b[1;32m   2388\u001b[0m     \u001b[39m\"\"\"\u001b[39;00m\n\u001b[1;32m   2389\u001b[0m \u001b[39m    Bind function *func* to event *s*.\u001b[39;00m\n\u001b[1;32m   2390\u001b[0m \n\u001b[0;32m   (...)\u001b[0m\n\u001b[1;32m   2445\u001b[0m \u001b[39m        cid = canvas.mpl_connect('button_press_event', on_press)\u001b[39;00m\n\u001b[1;32m   2446\u001b[0m \u001b[39m    \"\"\"\u001b[39;00m\n\u001b[0;32m-> 2448\u001b[0m     \u001b[39mreturn\u001b[39;00m \u001b[39mself\u001b[39;49m\u001b[39m.\u001b[39;49mcallbacks\u001b[39m.\u001b[39;49mconnect(s, func)\n",
      "File \u001b[0;32m/anaconda/envs/py38_default/lib/python3.8/site-packages/matplotlib/cbook/__init__.py:226\u001b[0m, in \u001b[0;36mCallbackRegistry.connect\u001b[0;34m(self, signal, func)\u001b[0m\n\u001b[1;32m    223\u001b[0m \u001b[39mif\u001b[39;00m signal \u001b[39m==\u001b[39m \u001b[39m\"\u001b[39m\u001b[39munits finalize\u001b[39m\u001b[39m\"\u001b[39m:\n\u001b[1;32m    224\u001b[0m     _api\u001b[39m.\u001b[39mwarn_deprecated(\n\u001b[1;32m    225\u001b[0m         \u001b[39m\"\u001b[39m\u001b[39m3.5\u001b[39m\u001b[39m\"\u001b[39m, name\u001b[39m=\u001b[39msignal, obj_type\u001b[39m=\u001b[39m\u001b[39m\"\u001b[39m\u001b[39msignal\u001b[39m\u001b[39m\"\u001b[39m, alternative\u001b[39m=\u001b[39m\u001b[39m\"\u001b[39m\u001b[39munits\u001b[39m\u001b[39m\"\u001b[39m)\n\u001b[0;32m--> 226\u001b[0m \u001b[39mif\u001b[39;00m \u001b[39mself\u001b[39;49m\u001b[39m.\u001b[39;49m_signals \u001b[39mis\u001b[39;00m \u001b[39mnot\u001b[39;00m \u001b[39mNone\u001b[39;00m:\n\u001b[1;32m    227\u001b[0m     _api\u001b[39m.\u001b[39mcheck_in_list(\u001b[39mself\u001b[39m\u001b[39m.\u001b[39m_signals, signal\u001b[39m=\u001b[39msignal)\n\u001b[1;32m    228\u001b[0m \u001b[39mself\u001b[39m\u001b[39m.\u001b[39m_func_cid_map\u001b[39m.\u001b[39msetdefault(signal, {})\n",
      "\u001b[0;31mAttributeError\u001b[0m: 'CallbackRegistry' object has no attribute '_signals'"
     ]
    }
   ],
   "source": [
    "\n",
    "\n",
    "# load clustering\n",
    "kmeans_info = pickle.load(open('../data/kmeans_info.p', 'rb'))\n",
    "kmeans = kmeans_info['kmeans']\n",
    "kmeans_fig = kmeans_info['kmeans-plot']\n",
    "grounded_cluster_centers = kmeans_info['grounded-cluster-center']\n",
    "print()"
   ]
  },
  {
   "cell_type": "code",
   "execution_count": null,
   "metadata": {},
   "outputs": [],
   "source": []
  }
 ],
 "metadata": {
  "kernelspec": {
   "display_name": "py38_default",
   "language": "python",
   "name": "py38_default"
  },
  "language_info": {
   "codemirror_mode": {
    "name": "ipython",
    "version": 3
   },
   "file_extension": ".py",
   "mimetype": "text/x-python",
   "name": "python",
   "nbconvert_exporter": "python",
   "pygments_lexer": "ipython3",
   "version": "3.8.13"
  },
  "orig_nbformat": 4
 },
 "nbformat": 4,
 "nbformat_minor": 2
}
