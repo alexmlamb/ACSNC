{
 "cells": [
  {
   "cell_type": "code",
   "execution_count": 1,
   "metadata": {},
   "outputs": [],
   "source": [
    "import os \n",
    "import torch \n",
    "import torch.nn as nn \n",
    "import pickle \n",
    "import numpy as np\n",
    "\n",
    "from os.path import abspath, join, dirname\n",
    "sys.path.append('../')\n",
    "\n",
    "from models import (Encoder, Probe, AC, Probe, LatentForward)\n",
    "from utils import unpickle "
   ]
  },
  {
   "attachments": {},
   "cell_type": "markdown",
   "metadata": {},
   "source": [
    "### Models e.t.c"
   ]
  },
  {
   "cell_type": "code",
   "execution_count": 14,
   "metadata": {},
   "outputs": [
    {
     "ename": "NameError",
     "evalue": "name 'mixer' is not defined",
     "output_type": "error",
     "traceback": [
      "\u001b[0;31m---------------------------------------------------------------------------\u001b[0m",
      "\u001b[0;31mNameError\u001b[0m                                 Traceback (most recent call last)",
      "\u001b[1;32m/home/lekanmolu/Documents/ML-Cont-Rob/ACSNC/continuous_ac/moplan/notebook.ipynb Cell 7\u001b[0m in \u001b[0;36m<cell line: 3>\u001b[0;34m()\u001b[0m\n\u001b[1;32m      <a href='vscode-notebook-cell://ssh-remote%2Btunnel/home/lekanmolu/Documents/ML-Cont-Rob/ACSNC/continuous_ac/moplan/notebook.ipynb#W4sdnNjb2RlLXJlbW90ZQ%3D%3D?line=0'>1</a>\u001b[0m device \u001b[39m=\u001b[39m torch\u001b[39m.\u001b[39mdevice(\u001b[39m\"\u001b[39m\u001b[39mcuda\u001b[39m\u001b[39m\"\u001b[39m \u001b[39mif\u001b[39;00m torch\u001b[39m.\u001b[39mcuda\u001b[39m.\u001b[39mis_available() \u001b[39melse\u001b[39;00m \u001b[39m\"\u001b[39m\u001b[39mcpu\u001b[39m\u001b[39m\"\u001b[39m)\n\u001b[1;32m      <a href='vscode-notebook-cell://ssh-remote%2Btunnel/home/lekanmolu/Documents/ML-Cont-Rob/ACSNC/continuous_ac/moplan/notebook.ipynb#W4sdnNjb2RlLXJlbW90ZQ%3D%3D?line=1'>2</a>\u001b[0m ac \u001b[39m=\u001b[39m AC(din\u001b[39m=\u001b[39m\u001b[39m256\u001b[39m, nk\u001b[39m=\u001b[39m\u001b[39m45\u001b[39m, nact\u001b[39m=\u001b[39m\u001b[39m2\u001b[39m)\u001b[39m.\u001b[39mto(device)\n\u001b[0;32m----> <a href='vscode-notebook-cell://ssh-remote%2Btunnel/home/lekanmolu/Documents/ML-Cont-Rob/ACSNC/continuous_ac/moplan/notebook.ipynb#W4sdnNjb2RlLXJlbW90ZQ%3D%3D?line=2'>3</a>\u001b[0m enc \u001b[39m=\u001b[39m Encoder(\u001b[39m100\u001b[39;49m \u001b[39m*\u001b[39;49m \u001b[39m100\u001b[39;49m, \u001b[39m256\u001b[39;49m)\u001b[39m.\u001b[39mto(device)\n\u001b[1;32m      <a href='vscode-notebook-cell://ssh-remote%2Btunnel/home/lekanmolu/Documents/ML-Cont-Rob/ACSNC/continuous_ac/moplan/notebook.ipynb#W4sdnNjb2RlLXJlbW90ZQ%3D%3D?line=3'>4</a>\u001b[0m forward \u001b[39m=\u001b[39m LatentForward(\u001b[39m256\u001b[39m, \u001b[39m2\u001b[39m)\u001b[39m.\u001b[39mto(device)\n\u001b[1;32m      <a href='vscode-notebook-cell://ssh-remote%2Btunnel/home/lekanmolu/Documents/ML-Cont-Rob/ACSNC/continuous_ac/moplan/notebook.ipynb#W4sdnNjb2RlLXJlbW90ZQ%3D%3D?line=4'>5</a>\u001b[0m a_probe \u001b[39m=\u001b[39m Probe(\u001b[39m256\u001b[39m, \u001b[39m2\u001b[39m)\u001b[39m.\u001b[39mto(device)\n",
      "\u001b[1;32m/home/lekanmolu/Documents/ML-Cont-Rob/ACSNC/continuous_ac/moplan/notebook.ipynb Cell 7\u001b[0m in \u001b[0;36mEncoder.__init__\u001b[0;34m(self, din, dout)\u001b[0m\n\u001b[1;32m      <a href='vscode-notebook-cell://ssh-remote%2Btunnel/home/lekanmolu/Documents/ML-Cont-Rob/ACSNC/continuous_ac/moplan/notebook.ipynb#W4sdnNjb2RlLXJlbW90ZQ%3D%3D?line=1'>2</a>\u001b[0m \u001b[39mdef\u001b[39;00m \u001b[39m__init__\u001b[39m(\u001b[39mself\u001b[39m, din, dout):\n\u001b[1;32m      <a href='vscode-notebook-cell://ssh-remote%2Btunnel/home/lekanmolu/Documents/ML-Cont-Rob/ACSNC/continuous_ac/moplan/notebook.ipynb#W4sdnNjb2RlLXJlbW90ZQ%3D%3D?line=2'>3</a>\u001b[0m     \u001b[39msuper\u001b[39m()\u001b[39m.\u001b[39m\u001b[39m__init__\u001b[39m()\n\u001b[0;32m----> <a href='vscode-notebook-cell://ssh-remote%2Btunnel/home/lekanmolu/Documents/ML-Cont-Rob/ACSNC/continuous_ac/moplan/notebook.ipynb#W4sdnNjb2RlLXJlbW90ZQ%3D%3D?line=4'>5</a>\u001b[0m     \u001b[39mself\u001b[39m\u001b[39m.\u001b[39mmixer \u001b[39m=\u001b[39m mixer\u001b[39m.\u001b[39mMLP_Mixer(n_layers\u001b[39m=\u001b[39m\u001b[39m2\u001b[39m, n_channel\u001b[39m=\u001b[39m\u001b[39m32\u001b[39m, n_hidden\u001b[39m=\u001b[39m\u001b[39m32\u001b[39m, n_output\u001b[39m=\u001b[39m\u001b[39m32\u001b[39m\u001b[39m*\u001b[39m\u001b[39m4\u001b[39m\u001b[39m*\u001b[39m\u001b[39m4\u001b[39m, image_size\u001b[39m=\u001b[39m\u001b[39m100\u001b[39m, patch_size\u001b[39m=\u001b[39m\u001b[39m10\u001b[39m, n_image_channel\u001b[39m=\u001b[39m\u001b[39m1\u001b[39m)\n\u001b[1;32m      <a href='vscode-notebook-cell://ssh-remote%2Btunnel/home/lekanmolu/Documents/ML-Cont-Rob/ACSNC/continuous_ac/moplan/notebook.ipynb#W4sdnNjb2RlLXJlbW90ZQ%3D%3D?line=6'>7</a>\u001b[0m     \u001b[39m#self.m = nn.Sequential(nn.Linear(256, 256), nn.BatchNorm1d(256), nn.LeakyReLU(), nn.Linear(256,256), nn.BatchNorm1d(256), nn.LeakyReLU(), nn.Linear(256, dout))\u001b[39;00m\n\u001b[1;32m      <a href='vscode-notebook-cell://ssh-remote%2Btunnel/home/lekanmolu/Documents/ML-Cont-Rob/ACSNC/continuous_ac/moplan/notebook.ipynb#W4sdnNjb2RlLXJlbW90ZQ%3D%3D?line=7'>8</a>\u001b[0m     \u001b[39m#self.m = nn.Sequential(nn.Linear(256, 256), nn.LeakyReLU(), nn.Linear(256,256), nn.LeakyReLU(), nn.Linear(256, dout))\u001b[39;00m\n\u001b[1;32m     <a href='vscode-notebook-cell://ssh-remote%2Btunnel/home/lekanmolu/Documents/ML-Cont-Rob/ACSNC/continuous_ac/moplan/notebook.ipynb#W4sdnNjb2RlLXJlbW90ZQ%3D%3D?line=9'>10</a>\u001b[0m     \u001b[39mself\u001b[39m\u001b[39m.\u001b[39mbn1 \u001b[39m=\u001b[39m nn\u001b[39m.\u001b[39mBatchNorm1d(\u001b[39m512\u001b[39m)\n",
      "\u001b[0;31mNameError\u001b[0m: name 'mixer' is not defined"
     ]
    }
   ],
   "source": [
    "device = torch.device(\"cuda\" if torch.cuda.is_available() else \"cpu\")\n",
    "ac = AC(din=256, nk=45, nact=2).to(device)\n",
    "enc = Encoder(100 * 100, 256).to(device)\n",
    "forward = LatentForward(256, 2).to(device)\n",
    "a_probe = Probe(256, 2).to(device)\n",
    "model = torch.load('../model.p', map_location=torch.device('cpu'))"
   ]
  },
  {
   "cell_type": "code",
   "execution_count": null,
   "metadata": {},
   "outputs": [],
   "source": []
  },
  {
   "cell_type": "code",
   "execution_count": 8,
   "metadata": {},
   "outputs": [
    {
     "ename": "RuntimeError",
     "evalue": "Error(s) in loading state_dict for Encoder:\n\tMissing key(s) in state_dict: \"m.1.weight\", \"m.1.bias\", \"m.1.running_mean\", \"m.1.running_var\", \"m.3.weight\", \"m.3.bias\", \"m.4.weight\", \"m.4.bias\", \"m.4.running_mean\", \"m.4.running_var\", \"m.6.weight\", \"m.6.bias\". \n\tUnexpected key(s) in state_dict: \"mixer.PerPatchMLP.mlp.weight\", \"mixer.PerPatchMLP.mlp.bias\", \"mixer.MixerStack.0.0.layer_norm.weight\", \"mixer.MixerStack.0.0.layer_norm.bias\", \"mixer.MixerStack.0.0.mlp1.weight\", \"mixer.MixerStack.0.0.mlp1.bias\", \"mixer.MixerStack.0.0.mlp2.weight\", \"mixer.MixerStack.0.0.mlp2.bias\", \"mixer.MixerStack.0.1.layer_norm.weight\", \"mixer.MixerStack.0.1.layer_norm.bias\", \"mixer.MixerStack.0.1.mlp3.weight\", \"mixer.MixerStack.0.1.mlp3.bias\", \"mixer.MixerStack.0.1.mlp4.weight\", \"mixer.MixerStack.0.1.mlp4.bias\", \"mixer.MixerStack.1.0.layer_norm.weight\", \"mixer.MixerStack.1.0.layer_norm.bias\", \"mixer.MixerStack.1.0.mlp1.weight\", \"mixer.MixerStack.1.0.mlp1.bias\", \"mixer.MixerStack.1.0.mlp2.weight\", \"mixer.MixerStack.1.0.mlp2.bias\", \"mixer.MixerStack.1.1.layer_norm.weight\", \"mixer.MixerStack.1.1.layer_norm.bias\", \"mixer.MixerStack.1.1.mlp3.weight\", \"mixer.MixerStack.1.1.mlp3.bias\", \"mixer.MixerStack.1.1.mlp4.weight\", \"mixer.MixerStack.1.1.mlp4.bias\", \"mixer.OutputMLP.layer_norm.weight\", \"mixer.OutputMLP.layer_norm.bias\", \"mixer.OutputMLP.out_mlp.weight\", \"mixer.OutputMLP.out_mlp.bias\", \"bn1.weight\", \"bn1.bias\", \"bn1.running_mean\", \"bn1.running_var\", \"bn1.num_batches_tracked\", \"bn2.weight\", \"bn2.bias\", \"m.2.weight\", \"m.2.bias\". \n\tsize mismatch for m.0.weight: copying a param with shape torch.Size([256, 1024]) from checkpoint, the shape in current model is torch.Size([256, 10000]).",
     "output_type": "error",
     "traceback": [
      "\u001b[0;31m---------------------------------------------------------------------------\u001b[0m",
      "\u001b[0;31mRuntimeError\u001b[0m                              Traceback (most recent call last)",
      "\u001b[1;32m/home/lekanmolu/Documents/ML-Cont-Rob/ACSNC/continuous_ac/moplan/notebook.ipynb Cell 6\u001b[0m in \u001b[0;36m<cell line: 2>\u001b[0;34m()\u001b[0m\n\u001b[1;32m      <a href='vscode-notebook-cell://ssh-remote%2Btunnel/home/lekanmolu/Documents/ML-Cont-Rob/ACSNC/continuous_ac/moplan/notebook.ipynb#X11sdnNjb2RlLXJlbW90ZQ%3D%3D?line=0'>1</a>\u001b[0m \u001b[39m# a_probe.load_state_dict(model['a_probe'])\u001b[39;00m\n\u001b[0;32m----> <a href='vscode-notebook-cell://ssh-remote%2Btunnel/home/lekanmolu/Documents/ML-Cont-Rob/ACSNC/continuous_ac/moplan/notebook.ipynb#X11sdnNjb2RlLXJlbW90ZQ%3D%3D?line=1'>2</a>\u001b[0m enc\u001b[39m.\u001b[39;49mload_state_dict(model[\u001b[39m'\u001b[39;49m\u001b[39menc\u001b[39;49m\u001b[39m'\u001b[39;49m])\n\u001b[1;32m      <a href='vscode-notebook-cell://ssh-remote%2Btunnel/home/lekanmolu/Documents/ML-Cont-Rob/ACSNC/continuous_ac/moplan/notebook.ipynb#X11sdnNjb2RlLXJlbW90ZQ%3D%3D?line=2'>3</a>\u001b[0m enc\u001b[39m.\u001b[39meval()\n\u001b[1;32m      <a href='vscode-notebook-cell://ssh-remote%2Btunnel/home/lekanmolu/Documents/ML-Cont-Rob/ACSNC/continuous_ac/moplan/notebook.ipynb#X11sdnNjb2RlLXJlbW90ZQ%3D%3D?line=3'>4</a>\u001b[0m a_probe\u001b[39m.\u001b[39meval()\n",
      "File \u001b[0;32m/anaconda/envs/py38_default/lib/python3.8/site-packages/torch/nn/modules/module.py:1604\u001b[0m, in \u001b[0;36mModule.load_state_dict\u001b[0;34m(self, state_dict, strict)\u001b[0m\n\u001b[1;32m   1599\u001b[0m         error_msgs\u001b[39m.\u001b[39minsert(\n\u001b[1;32m   1600\u001b[0m             \u001b[39m0\u001b[39m, \u001b[39m'\u001b[39m\u001b[39mMissing key(s) in state_dict: \u001b[39m\u001b[39m{}\u001b[39;00m\u001b[39m. \u001b[39m\u001b[39m'\u001b[39m\u001b[39m.\u001b[39mformat(\n\u001b[1;32m   1601\u001b[0m                 \u001b[39m'\u001b[39m\u001b[39m, \u001b[39m\u001b[39m'\u001b[39m\u001b[39m.\u001b[39mjoin(\u001b[39m'\u001b[39m\u001b[39m\"\u001b[39m\u001b[39m{}\u001b[39;00m\u001b[39m\"\u001b[39m\u001b[39m'\u001b[39m\u001b[39m.\u001b[39mformat(k) \u001b[39mfor\u001b[39;00m k \u001b[39min\u001b[39;00m missing_keys)))\n\u001b[1;32m   1603\u001b[0m \u001b[39mif\u001b[39;00m \u001b[39mlen\u001b[39m(error_msgs) \u001b[39m>\u001b[39m \u001b[39m0\u001b[39m:\n\u001b[0;32m-> 1604\u001b[0m     \u001b[39mraise\u001b[39;00m \u001b[39mRuntimeError\u001b[39;00m(\u001b[39m'\u001b[39m\u001b[39mError(s) in loading state_dict for \u001b[39m\u001b[39m{}\u001b[39;00m\u001b[39m:\u001b[39m\u001b[39m\\n\u001b[39;00m\u001b[39m\\t\u001b[39;00m\u001b[39m{}\u001b[39;00m\u001b[39m'\u001b[39m\u001b[39m.\u001b[39mformat(\n\u001b[1;32m   1605\u001b[0m                        \u001b[39mself\u001b[39m\u001b[39m.\u001b[39m\u001b[39m__class__\u001b[39m\u001b[39m.\u001b[39m\u001b[39m__name__\u001b[39m, \u001b[39m\"\u001b[39m\u001b[39m\\n\u001b[39;00m\u001b[39m\\t\u001b[39;00m\u001b[39m\"\u001b[39m\u001b[39m.\u001b[39mjoin(error_msgs)))\n\u001b[1;32m   1606\u001b[0m \u001b[39mreturn\u001b[39;00m _IncompatibleKeys(missing_keys, unexpected_keys)\n",
      "\u001b[0;31mRuntimeError\u001b[0m: Error(s) in loading state_dict for Encoder:\n\tMissing key(s) in state_dict: \"m.1.weight\", \"m.1.bias\", \"m.1.running_mean\", \"m.1.running_var\", \"m.3.weight\", \"m.3.bias\", \"m.4.weight\", \"m.4.bias\", \"m.4.running_mean\", \"m.4.running_var\", \"m.6.weight\", \"m.6.bias\". \n\tUnexpected key(s) in state_dict: \"mixer.PerPatchMLP.mlp.weight\", \"mixer.PerPatchMLP.mlp.bias\", \"mixer.MixerStack.0.0.layer_norm.weight\", \"mixer.MixerStack.0.0.layer_norm.bias\", \"mixer.MixerStack.0.0.mlp1.weight\", \"mixer.MixerStack.0.0.mlp1.bias\", \"mixer.MixerStack.0.0.mlp2.weight\", \"mixer.MixerStack.0.0.mlp2.bias\", \"mixer.MixerStack.0.1.layer_norm.weight\", \"mixer.MixerStack.0.1.layer_norm.bias\", \"mixer.MixerStack.0.1.mlp3.weight\", \"mixer.MixerStack.0.1.mlp3.bias\", \"mixer.MixerStack.0.1.mlp4.weight\", \"mixer.MixerStack.0.1.mlp4.bias\", \"mixer.MixerStack.1.0.layer_norm.weight\", \"mixer.MixerStack.1.0.layer_norm.bias\", \"mixer.MixerStack.1.0.mlp1.weight\", \"mixer.MixerStack.1.0.mlp1.bias\", \"mixer.MixerStack.1.0.mlp2.weight\", \"mixer.MixerStack.1.0.mlp2.bias\", \"mixer.MixerStack.1.1.layer_norm.weight\", \"mixer.MixerStack.1.1.layer_norm.bias\", \"mixer.MixerStack.1.1.mlp3.weight\", \"mixer.MixerStack.1.1.mlp3.bias\", \"mixer.MixerStack.1.1.mlp4.weight\", \"mixer.MixerStack.1.1.mlp4.bias\", \"mixer.OutputMLP.layer_norm.weight\", \"mixer.OutputMLP.layer_norm.bias\", \"mixer.OutputMLP.out_mlp.weight\", \"mixer.OutputMLP.out_mlp.bias\", \"bn1.weight\", \"bn1.bias\", \"bn1.running_mean\", \"bn1.running_var\", \"bn1.num_batches_tracked\", \"bn2.weight\", \"bn2.bias\", \"m.2.weight\", \"m.2.bias\". \n\tsize mismatch for m.0.weight: copying a param with shape torch.Size([256, 1024]) from checkpoint, the shape in current model is torch.Size([256, 10000])."
     ]
    }
   ],
   "source": [
    "\n",
    "# a_probe.load_state_dict(model['a_probe'])\n",
    "enc.load_state_dict(model['enc'])\n",
    "enc.eval()\n",
    "a_probe.eval()"
   ]
  },
  {
   "cell_type": "markdown",
   "metadata": {},
   "source": [
    "## Data set and preliminaries\n"
   ]
  },
  {
   "cell_type": "code",
   "execution_count": 6,
   "metadata": {},
   "outputs": [
    {
     "ename": "TypeError",
     "evalue": "forward() missing 1 required positional argument: 'gt'",
     "output_type": "error",
     "traceback": [
      "\u001b[0;31m---------------------------------------------------------------------------\u001b[0m",
      "\u001b[0;31mTypeError\u001b[0m                                 Traceback (most recent call last)",
      "\u001b[1;32m/home/lekanmolu/Documents/ML-Cont-Rob/ACSNC/continuous_ac/moplan/notebook.ipynb Cell 7\u001b[0m in \u001b[0;36m<cell line: 7>\u001b[0;34m()\u001b[0m\n\u001b[1;32m      <a href='vscode-notebook-cell://ssh-remote%2Btunnel/home/lekanmolu/Documents/ML-Cont-Rob/ACSNC/continuous_ac/moplan/notebook.ipynb#W3sdnNjb2RlLXJlbW90ZQ%3D%3D?line=8'>9</a>\u001b[0m         _latent_state \u001b[39m=\u001b[39m enc(torch\u001b[39m.\u001b[39mFloatTensor(X[i:i \u001b[39m+\u001b[39m \u001b[39m256\u001b[39m])\u001b[39m.\u001b[39mto(device))\n\u001b[1;32m     <a href='vscode-notebook-cell://ssh-remote%2Btunnel/home/lekanmolu/Documents/ML-Cont-Rob/ACSNC/continuous_ac/moplan/notebook.ipynb#W3sdnNjb2RlLXJlbW90ZQ%3D%3D?line=9'>10</a>\u001b[0m         latent_states \u001b[39m+\u001b[39m\u001b[39m=\u001b[39m _latent_state\u001b[39m.\u001b[39mcpu()\u001b[39m.\u001b[39mnumpy()\u001b[39m.\u001b[39mtolist()\n\u001b[0;32m---> <a href='vscode-notebook-cell://ssh-remote%2Btunnel/home/lekanmolu/Documents/ML-Cont-Rob/ACSNC/continuous_ac/moplan/notebook.ipynb#W3sdnNjb2RlLXJlbW90ZQ%3D%3D?line=10'>11</a>\u001b[0m         predicted_grounded_states \u001b[39m+\u001b[39m\u001b[39m=\u001b[39m a_probe(_latent_state)\u001b[39m.\u001b[39mcpu()\u001b[39m.\u001b[39mnumpy()\u001b[39m.\u001b[39mtolist()\n\u001b[1;32m     <a href='vscode-notebook-cell://ssh-remote%2Btunnel/home/lekanmolu/Documents/ML-Cont-Rob/ACSNC/continuous_ac/moplan/notebook.ipynb#W3sdnNjb2RlLXJlbW90ZQ%3D%3D?line=12'>13</a>\u001b[0m predicted_grounded_states \u001b[39m=\u001b[39m np\u001b[39m.\u001b[39marray(predicted_grounded_states)\n\u001b[1;32m     <a href='vscode-notebook-cell://ssh-remote%2Btunnel/home/lekanmolu/Documents/ML-Cont-Rob/ACSNC/continuous_ac/moplan/notebook.ipynb#W3sdnNjb2RlLXJlbW90ZQ%3D%3D?line=13'>14</a>\u001b[0m grounded_states \u001b[39m=\u001b[39m np\u001b[39m.\u001b[39marray(ast[:\u001b[39mlen\u001b[39m(latent_states)])\n",
      "File \u001b[0;32m/anaconda/envs/py38_default/lib/python3.8/site-packages/torch/nn/modules/module.py:1130\u001b[0m, in \u001b[0;36mModule._call_impl\u001b[0;34m(self, *input, **kwargs)\u001b[0m\n\u001b[1;32m   1126\u001b[0m \u001b[39m# If we don't have any hooks, we want to skip the rest of the logic in\u001b[39;00m\n\u001b[1;32m   1127\u001b[0m \u001b[39m# this function, and just call forward.\u001b[39;00m\n\u001b[1;32m   1128\u001b[0m \u001b[39mif\u001b[39;00m \u001b[39mnot\u001b[39;00m (\u001b[39mself\u001b[39m\u001b[39m.\u001b[39m_backward_hooks \u001b[39mor\u001b[39;00m \u001b[39mself\u001b[39m\u001b[39m.\u001b[39m_forward_hooks \u001b[39mor\u001b[39;00m \u001b[39mself\u001b[39m\u001b[39m.\u001b[39m_forward_pre_hooks \u001b[39mor\u001b[39;00m _global_backward_hooks\n\u001b[1;32m   1129\u001b[0m         \u001b[39mor\u001b[39;00m _global_forward_hooks \u001b[39mor\u001b[39;00m _global_forward_pre_hooks):\n\u001b[0;32m-> 1130\u001b[0m     \u001b[39mreturn\u001b[39;00m forward_call(\u001b[39m*\u001b[39;49m\u001b[39minput\u001b[39;49m, \u001b[39m*\u001b[39;49m\u001b[39m*\u001b[39;49mkwargs)\n\u001b[1;32m   1131\u001b[0m \u001b[39m# Do not call functions when jit is used\u001b[39;00m\n\u001b[1;32m   1132\u001b[0m full_backward_hooks, non_full_backward_hooks \u001b[39m=\u001b[39m [], []\n",
      "\u001b[0;31mTypeError\u001b[0m: forward() missing 1 required positional argument: 'gt'"
     ]
    }
   ],
   "source": [
    "klusters_predictor = unpickle(\"../kmeans.p\")\n",
    "dataset = unpickle('../dataset.p')\n",
    "\n",
    "X, A, ast, est = dataset['X'], dataset['A'], dataset['ast'], dataset['est']\n",
    "latent_states = []\n",
    "predicted_grounded_states = []\n",
    "for i in range(0, 100000, 256):\n",
    "    with torch.no_grad():\n",
    "        _latent_state = enc(torch.FloatTensor(X[i:i + 256]).to(device))\n",
    "        latent_states += _latent_state.cpu().numpy().tolist()\n",
    "        predicted_grounded_states += a_probe(_latent_state).cpu().numpy().tolist()\n",
    "\n",
    "predicted_grounded_states = np.array(predicted_grounded_states)\n",
    "grounded_states = np.array(ast[:len(latent_states)])\n",
    "latent_states = np.array(latent_states)"
   ]
  },
  {
   "cell_type": "code",
   "execution_count": null,
   "metadata": {},
   "outputs": [],
   "source": []
  }
 ],
 "metadata": {
  "kernelspec": {
   "display_name": "py38_default",
   "language": "python",
   "name": "py38_default"
  },
  "language_info": {
   "codemirror_mode": {
    "name": "ipython",
    "version": 3
   },
   "file_extension": ".py",
   "mimetype": "text/x-python",
   "name": "python",
   "nbconvert_exporter": "python",
   "pygments_lexer": "ipython3",
   "version": "3.8.13"
  },
  "orig_nbformat": 4
 },
 "nbformat": 4,
 "nbformat_minor": 2
}
